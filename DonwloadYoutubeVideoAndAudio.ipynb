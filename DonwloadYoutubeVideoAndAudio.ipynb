{
 "cells": [
  {
   "cell_type": "code",
   "execution_count": null,
   "metadata": {},
   "outputs": [],
   "source": [
    "from pytubefix import YouTube\n",
    "from pytubefix.cli import on_progress\n",
    "from moviepy.editor import VideoFileClip, AudioFileClip\n",
    "import os\n",
    "import re\n",
    "\n",
    "# Definindo o URL e criando o objeto YouTube\n",
    "url = \"https://www.youtube.com/watch?v=WtVI5mLHjtE\"\n",
    "yt = YouTube(url, on_progress_callback=on_progress)\n",
    "print(yt.title)\n",
    "\n",
    "# Ajuste para o título seguro do arquivo\n",
    "safe_title = re.sub(r'[\\\\/*?:\"<>|]', \"\", yt.title)\n",
    "\n",
    "# Baixando o vídeo e o áudio\n",
    "video_stream = yt.streams.filter(res=\"1080p\").first()\n",
    "audio_stream = yt.streams.get_audio_only()\n",
    "\n",
    "if video_stream:\n",
    "    video_path = video_stream.download(output_path=\"C:/Users/joaomk/Desktop/www/aulas/python/\", filename=f\"{safe_title}.mp4\")\n",
    "else:\n",
    "    print(\"Erro: Vídeo com resolução 1080p não encontrado.\")\n",
    "\n",
    "if audio_stream:\n",
    "    audio_path = audio_stream.download(output_path=\"C:/Users/joaomk/Desktop/www/aulas/python/\", filename=f\"{safe_title}\", mp3=True)\n",
    "else:\n",
    "    print(\"Erro: Áudio não encontrado.\")\n",
    "\n",
    "# Confirma se os arquivos baixados existem antes de tentar usá-los\n",
    "video_exists = os.path.exists(video_path)\n",
    "audio_exists = os.path.exists(audio_path)\n",
    "\n",
    "if video_exists and audio_exists:\n",
    "    try:\n",
    "        # Carregando os clipes de vídeo e áudio\n",
    "        video = VideoFileClip(video_path)\n",
    "        audio = AudioFileClip(audio_path)\n",
    "\n",
    "        # Sincronizando o áudio com o vídeo\n",
    "        video = video.set_audio(audio)\n",
    "\n",
    "        # Salvando o vídeo final\n",
    "        output_path = f\"C:/Users/joaomk/Desktop/www/aulas/python/{safe_title}_python.mp4\"\n",
    "        video.write_videofile(output_path, codec=\"libx264\", audio_codec=\"aac\")\n",
    "\n",
    "    except Exception as e:\n",
    "        print(f\"Erro ao processar o vídeo e áudio: {e}\")\n",
    "else:\n",
    "    if not video_exists:\n",
    "        print(f\"Erro: O arquivo de vídeo '{video_path}' não foi encontrado.\")\n",
    "    if not audio_exists:\n",
    "        print(f\"Erro: O arquivo de áudio '{audio_path}' não foi encontrado.\")\n"
   ]
  },
  {
   "cell_type": "code",
   "execution_count": null,
   "metadata": {},
   "outputs": [
    {
     "name": "stdout",
     "output_type": "stream",
     "text": [
      "Fazendo download de: Aula_1_Boas_Vindas_e_Apresentacao_do_Evento__Full_Stack_Week.mp4\n",
      "Fazendo download de: Aula_1_Boas_Vindas_e_Apresentacao_do_Evento__Full_Stack_Week.mp3\n",
      "Combinando vídeo e áudio...█████████████████████| 100.0%\n",
      "Download e processamento realizados com sucesso em C:/Users/joaomk/Desktop/www/aulas/python/Aula_1_Boas_Vindas_e_Apresentacao_do_Evento__Full_Stack_Week_com_audio.mp4\n"
     ]
    }
   ],
   "source": [
    "#winget install \"FFmpeg (Essentials Build)\"\n",
    "#pip install pytubefix\n",
    "\n",
    "from pytubefix import YouTube\n",
    "from pytubefix.cli import on_progress\n",
    "import re\n",
    "import os\n",
    "import subprocess\n",
    "\n",
    "url = \"https://www.youtube.com/watch?v=WtVI5mLHjtE\"\n",
    "path = f\"C:/Users/joaomk/Desktop/www/aulas/python/\"\n",
    "\n",
    "yt = YouTube(url, on_progress_callback=on_progress)\n",
    "safe_title = re.sub(r'[\\\\/*?:\"<>|]', \"\", yt.title).replace(\" \", \"_\").replace(\"ç\",\"c\").replace(\"ã\",\"a\")\n",
    "\n",
    "# Baixando o vídeo\n",
    "print(f\"Fazendo download de: {safe_title}.mp4\")\n",
    "video_stream = yt.streams.filter(res=\"1080p\").first().download(output_path=path, filename=f\"{safe_title}.mp4\")\n",
    "\n",
    "# Baixando o áudio\n",
    "print(f\"Fazendo download de: {safe_title}.mp3\")\n",
    "audio_stream = yt.streams.get_audio_only().download(output_path=path, filename=f\"{safe_title}.mp3\")\n",
    "\n",
    "# Utilizando ffmpeg para combinar o vídeo e o áudio\n",
    "print(f\"Combinando vídeo e áudio...\")\n",
    "input_video = os.path.join(path, f\"{safe_title}.mp4\")\n",
    "input_audio = os.path.join(path, f\"{safe_title}.mp3\")\n",
    "output_file = os.path.join(path, f\"{safe_title}_com_audio.mp4\")\n",
    "\n",
    "command = f'ffmpeg -i \"{input_video}\" -i \"{input_audio}\" -c copy \"{output_file}\"'\n",
    "#print(command)\n",
    "subprocess.run(command)\n",
    "\n",
    "# Remover o arquivo de áudio temporário\n",
    "os.remove(input_audio)\n",
    "os.remove(input_video)\n",
    "\n",
    "print(f\"Download e processamento realizados com sucesso em {output_file}\")"
   ]
  },
  {
   "cell_type": "code",
   "execution_count": 11,
   "metadata": {},
   "outputs": [],
   "source": [
    "video.close()\n",
    "audio.close()"
   ]
  }
 ],
 "metadata": {
  "kernelspec": {
   "display_name": "Python 3",
   "language": "python",
   "name": "python3"
  },
  "language_info": {
   "codemirror_mode": {
    "name": "ipython",
    "version": 3
   },
   "file_extension": ".py",
   "mimetype": "text/x-python",
   "name": "python",
   "nbconvert_exporter": "python",
   "pygments_lexer": "ipython3",
   "version": "3.13.0"
  }
 },
 "nbformat": 4,
 "nbformat_minor": 2
}
